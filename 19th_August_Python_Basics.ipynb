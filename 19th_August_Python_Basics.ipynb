{
 "cells": [
  {
   "cell_type": "markdown",
   "id": "012a6fc4-fef7-45d8-9b5a-0023ea3fcc7e",
   "metadata": {},
   "source": [
    "1. Swap the \n",
    "values of these variables without using any temporary variable."
   ]
  },
  {
   "cell_type": "code",
   "execution_count": 8,
   "id": "1b46ded4-ac7b-482b-9284-24cb95f2c06a",
   "metadata": {},
   "outputs": [],
   "source": [
    "x = 2\n",
    "y = 3\n",
    "\n",
    "x = x+y\n",
    "y = x-y\n",
    "x = x-y"
   ]
  },
  {
   "cell_type": "code",
   "execution_count": 9,
   "id": "f25ac7b2-0b35-4a2b-a02a-1be0d5634720",
   "metadata": {},
   "outputs": [
    {
     "data": {
      "text/plain": [
       "3"
      ]
     },
     "execution_count": 9,
     "metadata": {},
     "output_type": "execute_result"
    }
   ],
   "source": [
    "x"
   ]
  },
  {
   "cell_type": "code",
   "execution_count": 10,
   "id": "c26b5f29-c013-45a5-93b2-ce9b8cd84ec8",
   "metadata": {},
   "outputs": [
    {
     "data": {
      "text/plain": [
       "2"
      ]
     },
     "execution_count": 10,
     "metadata": {},
     "output_type": "execute_result"
    }
   ],
   "source": [
    "y"
   ]
  },
  {
   "cell_type": "markdown",
   "id": "b7a253bc-cf86-4a75-b4ca-4521d003a276",
   "metadata": {},
   "source": [
    "2. Create a program that calculates the area of a rectangle."
   ]
  },
  {
   "cell_type": "code",
   "execution_count": 11,
   "id": "3ae5350b-d362-4b28-8ee7-1223a2503ed8",
   "metadata": {},
   "outputs": [
    {
     "name": "stdin",
     "output_type": "stream",
     "text": [
      "enter the lenght : 5\n",
      "enter the width : 4\n"
     ]
    },
    {
     "name": "stdout",
     "output_type": "stream",
     "text": [
      "area of ractangle is :- 20.0\n"
     ]
    }
   ],
   "source": [
    "l = float(input(\"enter the lenght :\"))\n",
    "w = float(input(\"enter the width :\"))\n",
    "\n",
    "area = l * w\n",
    "print(\"area of ractangle is :-\",area)"
   ]
  },
  {
   "cell_type": "markdown",
   "id": "73fbd92e-69c7-48a4-b72e-1c30f9d2c5de",
   "metadata": {},
   "source": [
    "3. Write a Python program that converts temperatures from Celsius to Fahrenheit."
   ]
  },
  {
   "cell_type": "code",
   "execution_count": 17,
   "id": "6d334518-be86-4068-8438-821ad0459fd0",
   "metadata": {},
   "outputs": [
    {
     "name": "stdin",
     "output_type": "stream",
     "text": [
      "enter the temperature in celsius:- 28\n"
     ]
    },
    {
     "name": "stdout",
     "output_type": "stream",
     "text": [
      "fahrenhit value is : 82.4\n"
     ]
    }
   ],
   "source": [
    "tem = int(input(\"enter the temperature in celsius:-\"))\n",
    "fahrenhit = (tem * 9/5) + 32\n",
    "print(\"fahrenhit value is :\",fahrenhit)"
   ]
  },
  {
   "cell_type": "markdown",
   "id": "100666a8-34cf-447b-9a6a-51e23118e0fb",
   "metadata": {},
   "source": [
    "4. Write a Python program that takes a string as input and prints the length of the string."
   ]
  },
  {
   "cell_type": "code",
   "execution_count": 27,
   "id": "2d303eda-a5cf-4144-8f2e-4cfec0abb3ca",
   "metadata": {},
   "outputs": [
    {
     "name": "stdin",
     "output_type": "stream",
     "text": [
      "enter the string: abhishek\n"
     ]
    },
    {
     "name": "stdout",
     "output_type": "stream",
     "text": [
      "length of string is: 8\n"
     ]
    }
   ],
   "source": [
    "s = str(input(\"enter the string:\"))\n",
    "print(\"length of string is:\",len(s))"
   ]
  },
  {
   "cell_type": "markdown",
   "id": "4efc14f4-853d-4f19-91c0-de069618e7a1",
   "metadata": {},
   "source": [
    "5. Create a program that takes a sentence from the user and counts the number of vowels (a, e, i, o, u) in the string."
   ]
  },
  {
   "cell_type": "code",
   "execution_count": 42,
   "id": "e12eed78-7330-4956-8b61-7987655ea8b3",
   "metadata": {},
   "outputs": [
    {
     "name": "stdin",
     "output_type": "stream",
     "text": [
      "enter the sentence: ankush kumar\n"
     ]
    },
    {
     "name": "stdout",
     "output_type": "stream",
     "text": [
      "number of vowels is: 4\n"
     ]
    }
   ],
   "source": [
    "s = str(input(\"enter the sentence:\"))\n",
    "c = 0\n",
    "for i in s:\n",
    "    if i in \"a,e,i,o,u\":\n",
    "        c = c+1\n",
    "print(\"number of vowels is:\",c)        "
   ]
  },
  {
   "cell_type": "markdown",
   "id": "7f4f8a6e-5c8e-477e-a92a-9242038695ba",
   "metadata": {},
   "source": [
    "6. Given a string, reverse the order of characters using string slicing and print \n",
    "the reversed string."
   ]
  },
  {
   "cell_type": "code",
   "execution_count": 69,
   "id": "dc798d5e-e09c-4d4f-b73b-0126ccedddea",
   "metadata": {},
   "outputs": [
    {
     "name": "stdin",
     "output_type": "stream",
     "text": [
      "enter a string: ankush\n"
     ]
    },
    {
     "name": "stdout",
     "output_type": "stream",
     "text": [
      "reversed string hsukna\n"
     ]
    }
   ],
   "source": [
    "string = input(\"enter a string:\")\n",
    "reverse_string = string[::-1]\n",
    "print(\"reversed string\",reverse_string)\n",
    "    "
   ]
  },
  {
   "cell_type": "markdown",
   "id": "6ac47ced-000f-4dfd-86f4-eba6d3089bd4",
   "metadata": {},
   "source": [
    "7. Write a program that takes a string as input and checks if it is a palindrome \n",
    "(reads the same forwards and backwards)."
   ]
  },
  {
   "cell_type": "code",
   "execution_count": 72,
   "id": "6f71b6bf-392c-4190-a9df-34d3eeb0b56f",
   "metadata": {},
   "outputs": [
    {
     "name": "stdin",
     "output_type": "stream",
     "text": [
      "enter a string: tenet\n"
     ]
    },
    {
     "name": "stdout",
     "output_type": "stream",
     "text": [
      "yes! its a palindrome\n"
     ]
    }
   ],
   "source": [
    "string = input(\"enter a string:\")\n",
    "reverse =string[::-1]\n",
    "if string==reverse:\n",
    "    print(\"yes! its a palindrome\")\n",
    "else:\n",
    "    print(\"no! its not a palindrome\")"
   ]
  },
  {
   "cell_type": "markdown",
   "id": "2f47d328-5b25-479f-a70c-58c6aee2cec0",
   "metadata": {},
   "source": [
    "8. Create a program that takes a string as input and removes all the spaces from \n",
    "it. Print the modified string without spaces."
   ]
  },
  {
   "cell_type": "code",
   "execution_count": 91,
   "id": "55af55b7-2c1a-4ed7-b492-a38f1bccec60",
   "metadata": {},
   "outputs": [
    {
     "name": "stdin",
     "output_type": "stream",
     "text": [
      "enter the string: a n k u s h\n"
     ]
    },
    {
     "name": "stdout",
     "output_type": "stream",
     "text": [
      "without spaces string: ankush\n"
     ]
    }
   ],
   "source": [
    "string = input(\"enter the string:\")\n",
    "w_s = \"\"\n",
    "for i in string:\n",
    "    if i != \" \":\n",
    "        w_s += i\n",
    "print(\"without spaces string:\",w_s)      "
   ]
  },
  {
   "cell_type": "code",
   "execution_count": null,
   "id": "ae53fc43-40e6-4645-a1d8-1cf3d6ed9ee1",
   "metadata": {},
   "outputs": [],
   "source": []
  }
 ],
 "metadata": {
  "kernelspec": {
   "display_name": "Python 3 (ipykernel)",
   "language": "python",
   "name": "python3"
  },
  "language_info": {
   "codemirror_mode": {
    "name": "ipython",
    "version": 3
   },
   "file_extension": ".py",
   "mimetype": "text/x-python",
   "name": "python",
   "nbconvert_exporter": "python",
   "pygments_lexer": "ipython3",
   "version": "3.12.1"
  }
 },
 "nbformat": 4,
 "nbformat_minor": 5
}
